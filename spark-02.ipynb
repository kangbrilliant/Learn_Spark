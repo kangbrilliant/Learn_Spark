{
 "cells": [
  {
   "cell_type": "markdown",
   "metadata": {},
   "source": [
    "# RDD编程"
   ]
  },
  {
   "cell_type": "code",
   "execution_count": 2,
   "metadata": {},
   "outputs": [],
   "source": [
    "import findspark\n",
    "#可在环境变量中进行设置，即PATH中加入如下地址\n",
    "findspark.init(\"C:/Users/Orion/Downloads/spark-2.4.3-bin-hadoop2.7/spark-2.4.3-bin-hadoop2.7\")\n",
    "\n",
    "from pyspark import SparkContext\n",
    "sc = SparkContext( 'local', 'test')"
   ]
  },
  {
   "cell_type": "markdown",
   "metadata": {},
   "source": [
    "## 从文件系统中加载数据创建RDD"
   ]
  },
  {
   "cell_type": "code",
   "execution_count": 4,
   "metadata": {},
   "outputs": [
    {
     "data": {
      "text/plain": [
       "[('good', 5), ('as', 5), ('am', 5)]"
      ]
     },
     "execution_count": 4,
     "metadata": {},
     "output_type": "execute_result"
    }
   ],
   "source": [
    "textFile = sc.textFile(\"./words.txt\")\n",
    "wordCount = textFile.flatMap(lambda line: line.split(\" \")).map(lambda word: (word,1)).reduceByKey(lambda a, b : a + b)\n",
    "wordCount.collect()"
   ]
  },
  {
   "cell_type": "markdown",
   "metadata": {},
   "source": [
    "## 通过并行集合（数组）创建RDD\n"
   ]
  },
  {
   "cell_type": "code",
   "execution_count": null,
   "metadata": {},
   "outputs": [],
   "source": [
    "nums = [1,2,3,4,5]\n",
    "rdd = sc.parallelize(nums)"
   ]
  },
  {
   "cell_type": "markdown",
   "metadata": {},
   "source": [
    "## RDD操作\n",
    "\n",
    "RDD被创建好以后，在后续使用过程中一般会发生两种操作：\n",
    "\n",
    "- 转换（Transformation）： 基于现有的数据集创建一个新的数据集。\n",
    "\n",
    "- 行动（Action）：在数据集上进行运算，返回计算值。"
   ]
  },
  {
   "cell_type": "markdown",
   "metadata": {},
   "source": [
    "#  键值对RDD的创建"
   ]
  },
  {
   "cell_type": "markdown",
   "metadata": {},
   "source": [
    "##  从文件中加载"
   ]
  },
  {
   "cell_type": "code",
   "execution_count": 5,
   "metadata": {},
   "outputs": [
    {
     "name": "stdout",
     "output_type": "stream",
     "text": [
      "[('good', 1), ('good', 1), ('good', 1), ('good', 1), ('good', 1), ('as', 1), ('as', 1), ('as', 1), ('as', 1), ('as', 1), ('am', 1), ('am', 1), ('am', 1), ('am', 1), ('am', 1)]\n"
     ]
    }
   ],
   "source": [
    "lines = sc.textFile(\"./words.txt\")\n",
    "pairRDD = lines.flatMap(lambda line : line.split()).map(lambda word : (word,1))\n",
    "pairRDD.foreach(print)\n",
    "pairRDD.first()\n",
    "print (pairRDD.collect())"
   ]
  },
  {
   "cell_type": "markdown",
   "metadata": {},
   "source": [
    "## 通过并行集合（列表）创建RDD\n"
   ]
  },
  {
   "cell_type": "code",
   "execution_count": 6,
   "metadata": {},
   "outputs": [
    {
     "name": "stdout",
     "output_type": "stream",
     "text": [
      "[('Hadoop', 1), ('Spark', 1), ('Hive', 1), ('Spark', 1)]\n"
     ]
    }
   ],
   "source": [
    "list = [\"Hadoop\",\"Spark\",\"Hive\",\"Spark\"]\n",
    "rdd = sc.parallelize(list)\n",
    "airRDD = rdd.map(lambda word : (word,1))\n",
    "print (airRDD.collect())"
   ]
  },
  {
   "cell_type": "markdown",
   "metadata": {},
   "source": [
    "## 常用的键值对转换操作\n",
    "\n",
    "- 常用的键值对转换操作包括reduceByKey()、groupByKey()、sortByKey()、join()、cogroup()等"
   ]
  },
  {
   "cell_type": "markdown",
   "metadata": {},
   "source": [
    "### reduceByKey(func)\n",
    "- reduceByKey(func)的功能是，使用func函数合并具有相同键的值。"
   ]
  },
  {
   "cell_type": "code",
   "execution_count": 7,
   "metadata": {},
   "outputs": [
    {
     "name": "stdout",
     "output_type": "stream",
     "text": [
      "[('Hadoop', 1), ('Spark', 2), ('Hive', 1)]\n"
     ]
    }
   ],
   "source": [
    "airRDD = airRDD.reduceByKey(lambda a,b : a+b)\n",
    "print (airRDD.collect())"
   ]
  },
  {
   "cell_type": "markdown",
   "metadata": {},
   "source": [
    "### groupByKey()\n",
    "- groupByKey()的功能是，对具有相同键的值进行分组。"
   ]
  },
  {
   "cell_type": "code",
   "execution_count": 8,
   "metadata": {},
   "outputs": [
    {
     "name": "stdout",
     "output_type": "stream",
     "text": [
      "[('good', <pyspark.resultiterable.ResultIterable object at 0x000001DCABCC19E8>), ('as', <pyspark.resultiterable.ResultIterable object at 0x000001DCABCC19B0>), ('am', <pyspark.resultiterable.ResultIterable object at 0x000001DCABCC1B38>)]\n"
     ]
    }
   ],
   "source": [
    "groupRDD = pairRDD.groupByKey()\n",
    "print (groupRDD.collect())"
   ]
  },
  {
   "cell_type": "markdown",
   "metadata": {},
   "source": [
    "### keys()\n",
    "- keys()只会把键值对RDD中的key返回形成一个新的RDD。"
   ]
  },
  {
   "cell_type": "code",
   "execution_count": 9,
   "metadata": {},
   "outputs": [
    {
     "name": "stdout",
     "output_type": "stream",
     "text": [
      "['good', 'good', 'good', 'good', 'good', 'as', 'as', 'as', 'as', 'as', 'am', 'am', 'am', 'am', 'am']\n"
     ]
    }
   ],
   "source": [
    "keyRDD = pairRDD.keys()\n",
    "print (keyRDD.collect())"
   ]
  },
  {
   "cell_type": "markdown",
   "metadata": {},
   "source": [
    "### values()\n",
    "- values()只会把键值对RDD中的value返回形成一个新的RDD。"
   ]
  },
  {
   "cell_type": "code",
   "execution_count": 10,
   "metadata": {},
   "outputs": [
    {
     "name": "stdout",
     "output_type": "stream",
     "text": [
      "[1, 1, 1, 1, 1, 1, 1, 1, 1, 1, 1, 1, 1, 1, 1]\n"
     ]
    }
   ],
   "source": [
    "valuesRDD = pairRDD.values()\n",
    "print (valuesRDD.collect())"
   ]
  },
  {
   "cell_type": "markdown",
   "metadata": {},
   "source": [
    "### sortByKey()\n",
    "- sortByKey()的功能是返回一个根据键排序的RDD。"
   ]
  },
  {
   "cell_type": "code",
   "execution_count": 11,
   "metadata": {},
   "outputs": [
    {
     "name": "stdout",
     "output_type": "stream",
     "text": [
      "[('am', 1), ('am', 1), ('am', 1), ('am', 1), ('am', 1), ('as', 1), ('as', 1), ('as', 1), ('as', 1), ('as', 1), ('good', 1), ('good', 1), ('good', 1), ('good', 1), ('good', 1)]\n"
     ]
    }
   ],
   "source": [
    "sortByKeyRDD = pairRDD.sortByKey()\n",
    "print (sortByKeyRDD.collect())"
   ]
  },
  {
   "cell_type": "markdown",
   "metadata": {},
   "source": [
    "### mapValues(func)\n",
    "- mapValues(func)，它的功能是，对键值对RDD中的每个value都应用一个函数，但是，key不会发生变化。"
   ]
  },
  {
   "cell_type": "code",
   "execution_count": 12,
   "metadata": {},
   "outputs": [
    {
     "name": "stdout",
     "output_type": "stream",
     "text": [
      "[('good', 2), ('good', 2), ('good', 2), ('good', 2), ('good', 2), ('as', 2), ('as', 2), ('as', 2), ('as', 2), ('as', 2), ('am', 2), ('am', 2), ('am', 2), ('am', 2), ('am', 2)]\n"
     ]
    }
   ],
   "source": [
    "mapValuesRDD = pairRDD.mapValues(lambda x : x+1)\n",
    "print (mapValuesRDD.collect())"
   ]
  },
  {
   "cell_type": "markdown",
   "metadata": {},
   "source": [
    "### join\n",
    "- join(连接)操作是键值对常用的操作。"
   ]
  },
  {
   "cell_type": "code",
   "execution_count": 13,
   "metadata": {},
   "outputs": [
    {
     "name": "stdout",
     "output_type": "stream",
     "text": [
      "[('spark', (1, 'fast')), ('spark', (2, 'fast'))]\n"
     ]
    }
   ],
   "source": [
    "pairRDD1 = sc.parallelize([('spark',1),('spark',2),('hadoop',3),('hadoop',5)])\n",
    "pairRDD2 = sc.parallelize([('spark','fast')])\n",
    "pairRDD3 = pairRDD1.join(pairRDD2)\n",
    "print (pairRDD3.collect())"
   ]
  },
  {
   "cell_type": "markdown",
   "metadata": {},
   "source": [
    "# 文件读写"
   ]
  },
  {
   "cell_type": "markdown",
   "metadata": {},
   "source": [
    "## 本地文件文件的数据读写"
   ]
  },
  {
   "cell_type": "code",
   "execution_count": 15,
   "metadata": {},
   "outputs": [
    {
     "data": {
      "text/plain": [
       "'good good good good good as as as as as am am am am am'"
      ]
     },
     "execution_count": 15,
     "metadata": {},
     "output_type": "execute_result"
    }
   ],
   "source": [
    "textFile = sc.textFile(\"words.txt\")\n",
    "textFile.first()"
   ]
  },
  {
   "cell_type": "code",
   "execution_count": 37,
   "metadata": {},
   "outputs": [
    {
     "data": {
      "text/plain": [
       "'我知道'"
      ]
     },
     "execution_count": 37,
     "metadata": {},
     "output_type": "execute_result"
    }
   ],
   "source": [
    "b'\\xe6\\x88\\x91\\xe7\\x9f\\xa5\\xe9\\x81\\x93'.decode('utf-8')"
   ]
  },
  {
   "cell_type": "code",
   "execution_count": null,
   "metadata": {},
   "outputs": [],
   "source": []
  }
 ],
 "metadata": {
  "kernelspec": {
   "display_name": "Python 3",
   "language": "python",
   "name": "python3"
  },
  "language_info": {
   "codemirror_mode": {
    "name": "ipython",
    "version": 3
   },
   "file_extension": ".py",
   "mimetype": "text/x-python",
   "name": "python",
   "nbconvert_exporter": "python",
   "pygments_lexer": "ipython3",
   "version": "3.6.8"
  },
  "toc": {
   "base_numbering": 1,
   "nav_menu": {},
   "number_sections": true,
   "sideBar": true,
   "skip_h1_title": false,
   "title_cell": "Table of Contents",
   "title_sidebar": "Contents",
   "toc_cell": false,
   "toc_position": {},
   "toc_section_display": true,
   "toc_window_display": false
  }
 },
 "nbformat": 4,
 "nbformat_minor": 2
}
